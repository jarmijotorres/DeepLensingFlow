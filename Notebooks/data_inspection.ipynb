{
 "cells": [
  {
   "cell_type": "markdown",
   "id": "7370439d-2508-4be4-bc9d-93f66ec55e70",
   "metadata": {},
   "source": [
    "# Data inspection"
   ]
  },
  {
   "cell_type": "code",
   "execution_count": 1,
   "id": "c27f55e8-1ab6-4568-a688-e75ea192700b",
   "metadata": {
    "tags": []
   },
   "outputs": [],
   "source": [
    "from LensingUtils import *"
   ]
  },
  {
   "cell_type": "code",
   "execution_count": 2,
   "id": "5ac68cf7-8ee2-4a62-8cd5-531bdde7f018",
   "metadata": {
    "tags": []
   },
   "outputs": [],
   "source": [
    "import os,sys\n",
    "import numpy as np\n",
    "import matplotlib.pyplot as plt"
   ]
  },
  {
   "cell_type": "markdown",
   "id": "32495a15-fb03-4e6f-b792-4e63827986ac",
   "metadata": {
    "tags": []
   },
   "source": [
    "## We will load the SLICS maps data ($\\kappa$) and convert it to a log-normal distribution."
   ]
  },
  {
   "cell_type": "code",
   "execution_count": 12,
   "id": "cc816507-931d-4da9-9e22-893717688fac",
   "metadata": {
    "tags": []
   },
   "outputs": [],
   "source": [
    "data_dir = '/gpfs02/work/jarmijo/KappaMaps/SLICS_Cov/'\n",
    "list_names = os.listdir(data_dir)\n",
    "#data_maps = [np.load(data_dir+l) for l in list_names]"
   ]
  },
  {
   "cell_type": "code",
   "execution_count": 4,
   "id": "e42e57b6-4d48-4277-b0bc-977be660b8ec",
   "metadata": {
    "tags": []
   },
   "outputs": [],
   "source": [
    "#Functions inside LensingUtils use numba optimization. It should be fast\n",
    "lognorm_kappa,mu,sigma = shifted_logN_kappa_samples(data_maps)"
   ]
  },
  {
   "cell_type": "code",
   "execution_count": 5,
   "id": "77422850-a2ef-4572-912d-a92cfc4acfb9",
   "metadata": {
    "tags": []
   },
   "outputs": [
    {
     "data": {
      "image/png": "[encoded data removed]",
      "text/plain": [
       "<Figure size 800x400 with 2 Axes>"
      ]
     },
     "metadata": {},
     "output_type": "display_data"
    }
   ],
   "source": [
    "f,ax = plt.subplots(1,2,figsize=(8,4),sharey=True)\n",
    "ax[0].hist(data_maps[0].flatten(),bins=50,range=(-0.1,0.3),histtype='step',color='b',lw=2)\n",
    "ax[1].hist(lognorm_kappa[0].flatten(),bins=50,range=(-5,5),histtype='step',color='r',lw=2)\n",
    "ax[0].set_yscale('log')\n",
    "plt.show()"
   ]
  },
  {
   "cell_type": "markdown",
   "id": "a148f73f-85eb-4999-a5d0-da80912daba5",
   "metadata": {},
   "source": [
    "# Save data to use for training"
   ]
  },
  {
   "cell_type": "code",
   "execution_count": 17,
   "id": "609fe9d9-29de-4f45-bdc8-8c453ca72e67",
   "metadata": {
    "tags": []
   },
   "outputs": [],
   "source": [
    "for i in range(len(data_maps)):\n",
    "    np.save('/gpfs02/work/jarmijo/KappaMaps/norm_quad_SLICS_Cov/slics_norm/log_'+list_names[i],lognorm_kappa[i])\n",
    "np.save('/gpfs02/work/jarmijo/KappaMaps/norm_quad_SLICS_Cov/slics_norm/logkappa_mu_sigma_maps.npy',np.array([mu,sigma]).T)"
   ]
  },
  {
   "cell_type": "code",
   "execution_count": null,
   "id": "ff859ac7-094b-4425-81a2-0495beb14014",
   "metadata": {},
   "outputs": [],
   "source": []
  }
 ],
 "metadata": {
  "kernelspec": {
   "display_name": "Python 3 (ipykernel)",
   "language": "python",
   "name": "python3"
  },
  "language_info": {
   "codemirror_mode": {
    "name": "ipython",
    "version": 3
   },
   "file_extension": ".py",
   "mimetype": "text/x-python",
   "name": "python",
   "nbconvert_exporter": "python",
   "pygments_lexer": "ipython3",
   "version": "3.9.7"
  }
 },
 "nbformat": 4,
 "nbformat_minor": 5
}
